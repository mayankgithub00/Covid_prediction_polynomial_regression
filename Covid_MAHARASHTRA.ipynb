{
  "nbformat": 4,
  "nbformat_minor": 0,
  "metadata": {
    "colab": {
      "name": "Covid_MAHARASHTRA.ipynb",
      "provenance": [],
      "collapsed_sections": []
    },
    "kernelspec": {
      "name": "python3",
      "display_name": "Python 3"
    }
  },
  "cells": [
    {
      "cell_type": "code",
      "metadata": {
        "id": "bNZBxIC6OyTM",
        "colab_type": "code",
        "colab": {}
      },
      "source": [
        "import numpy as np\n",
        "from sklearn.preprocessing import PolynomialFeatures\n",
        "from sklearn.linear_model import LinearRegression\n",
        "import pandas as pd\n",
        "import matplotlib.pyplot as plt"
      ],
      "execution_count": null,
      "outputs": []
    },
    {
      "cell_type": "code",
      "metadata": {
        "id": "p8g6yDC2DDeN",
        "colab_type": "code",
        "colab": {}
      },
      "source": [
        "df=pd.read_csv(\"Maharashtra.csv\")\n"
      ],
      "execution_count": 36,
      "outputs": []
    },
    {
      "cell_type": "code",
      "metadata": {
        "id": "QD8ePvGXEhLd",
        "colab_type": "code",
        "colab": {
          "base_uri": "https://localhost:8080/",
          "height": 563
        },
        "outputId": "86ae9b70-fa93-4291-cde1-36b416134ac6"
      },
      "source": [
        "Days=np.array(df['days'])\n",
        "print(\"Days\",Days)\n",
        "Confirmed=np.array(df['confirmed'])\n",
        "print(\"Confirmed\",Confirmed)\n",
        "Deaths=np.array(df['deceased'])\n",
        "print(\"Deaths\",Deaths)\n",
        "Recovered=np.array(df['recovered'])\n",
        "print(\"Recoverd\",Recovered)"
      ],
      "execution_count": 37,
      "outputs": [
        {
          "output_type": "stream",
          "text": [
            "Days [  1   2   3   4   5   6   7   8   9  10  11  12  13  14  15  16  17  18\n",
            "  19  20  21  22  23  24  25  26  27  28  29  30  31  32  33  34  35  36\n",
            "  37  38  39  40  41  42  43  44  45  46  47  48  49  50  51  52  53  54\n",
            "  55  56  57  58  59  60  61  62  63  64  65  66  67  68  69  70  71  72\n",
            "  73  74  75  76  77  78  79  80  81  82  83  84  85  86  87  88  89  90\n",
            "  91  92  93  94  95  96  97  98  99 100 101 102 103 104]\n",
            "Confirmed [  14   18    6    3    3    4    4   12   10   23   10   15    3   31\n",
            "   30   17   17   82   33   88   64  148  112  121  150  117  229  210\n",
            "  187  221  352  346  236  285  120  327  552  466  552  431  778  390\n",
            "  811  440  522  728  597  583 1008  790  678 1567  984 1233 1216 1089\n",
            " 1165 1943 1230 1026 1495 1602 1576 1606 2347 2005 2078 2161 2345 2940\n",
            " 2608 3041 2436 2091 2190 2598 2682 2940 2487 2358 2287 2560 2933 2436\n",
            " 2739 3007 2554 2258 3254 3607 3493 3427 3390 2786 2701 3307 3752 3827\n",
            " 3874 3870 3721 3214 3889 4842]\n",
            "Deaths [   0    0    0    1    0    0    0    0    1    0    0    0    1    1\n",
            "    2    1    2    1    3    8    5    6   13    7   12    8   25   12\n",
            "   17   22   11   18    9    7    7   10   12    9   19   18   14   18\n",
            "   22   19   27   31   32   27   26   36   27   35   34   34   43   37\n",
            "   48   53   36   53   54   44   49   67   63   51   76   65   64   63\n",
            "   60   58   60   97  105   85  116   99   89   76  103  122  123  139\n",
            "  120   91  109  120  149  152  127  113  120  178 1409  114  100  142\n",
            "   91  186  113  248  208  192]\n",
            "Recoverd [   0    0    0    0    0    0    0    0    0    0    0    1    0   18\n",
            "    6    0   14    0    0    3    8    2    4   14    9   38    8   63\n",
            "   20    9   12   30   36    5   31   34  142   65  150   67   51  117\n",
            "  119  112   94  106  205  180  106  121  115  350  354  275  207  169\n",
            "  330  399  587  339  422  542  475  524  600  749 1202  679 1408  857\n",
            "  821 1196 1186 1168  964  698 8381 1084 1248  779 1225  996 1352 1466\n",
            " 2243 1924 1661 1664 1877 1562 1718 1550 1632 5071 1802 1315 1672 1935\n",
            " 1380 1591 1962 1925 4161 3661]\n"
          ],
          "name": "stdout"
        }
      ]
    },
    {
      "cell_type": "code",
      "metadata": {
        "id": "yTgRmSnsFn9D",
        "colab_type": "code",
        "colab": {
          "base_uri": "https://localhost:8080/",
          "height": 283
        },
        "outputId": "06d617f4-732e-4766-ecc1-476bdf14c637"
      },
      "source": [
        "plt.plot(Days,Recovered)"
      ],
      "execution_count": 38,
      "outputs": [
        {
          "output_type": "execute_result",
          "data": {
            "text/plain": [
              "[<matplotlib.lines.Line2D at 0x7faec87b76d8>]"
            ]
          },
          "metadata": {
            "tags": []
          },
          "execution_count": 38
        },
        {
          "output_type": "display_data",
          "data": {
            "image/png": "[encoded data removed]",
            "text/plain": [
              "<Figure size 432x288 with 1 Axes>"
            ]
          },
          "metadata": {
            "tags": [],
            "needs_background": "light"
          }
        }
      ]
    },
    {
      "cell_type": "code",
      "metadata": {
        "id": "cJb33Ly6Hb3d",
        "colab_type": "code",
        "colab": {
          "base_uri": "https://localhost:8080/",
          "height": 284
        },
        "outputId": "acf61dd8-7440-4259-9e0c-4aeb5fb6f62f"
      },
      "source": [
        "plt.scatter(Days,Confirmed)"
      ],
      "execution_count": 39,
      "outputs": [
        {
          "output_type": "execute_result",
          "data": {
            "text/plain": [
              "<matplotlib.collections.PathCollection at 0x7faec87902b0>"
            ]
          },
          "metadata": {
            "tags": []
          },
          "execution_count": 39
        },
        {
          "output_type": "display_data",
          "data": {
            "image/png": "[encoded data removed]",
            "text/plain": [
              "<Figure size 432x288 with 1 Axes>"
            ]
          },
          "metadata": {
            "tags": [],
            "needs_background": "light"
          }
        }
      ]
    },
    {
      "cell_type": "code",
      "metadata": {
        "id": "iW_TXLvHOpwT",
        "colab_type": "code",
        "colab": {
          "base_uri": "https://localhost:8080/",
          "height": 672
        },
        "outputId": "1961ea36-51d0-4efe-93f9-3b2b29b0786b"
      },
      "source": [
        "random_indices=(np.random.permutation(104))\n",
        "print(random_indices)\n",
        "Days_train=Days[random_indices[:]]\n",
        "print(Days_train)\n",
        "Confirmed_train=Confirmed[random_indices[:]]\n",
        "print(Confirmed_train)\n",
        "Recovered_train=Recovered[random_indices[:]]\n",
        "Recovered_test=Recovered[random_indices[80:]]\n",
        "print(Recovered_train)\n",
        "Deaths_train=Deaths[random_indices[:]]\n",
        "print(Deaths_train)\n",
        "\n"
      ],
      "execution_count": 40,
      "outputs": [
        {
          "output_type": "stream",
          "text": [
            "[ 37   0  85  88  92  67  73  26  50  44  48  52  61   6  13  14  35  17\n",
            "  98  16  22  56  87  38  69  15  86  30  55   4  62  81  46   9  21  20\n",
            "   7  78  80  25  42  93  79  94   8  31  63   5  45  36 103   3  54  71\n",
            "  70  39  64  66  91  83   2  84  89  72  53  40  28  10  32  24  33  96\n",
            "  75   1  74 101  97  82  41  68  60 100  12  49  27  77 102  95  76  34\n",
            "  99  59  65  57  29  11  19  58  23  43  18  51  90  47]\n",
            "[ 38   1  86  89  93  68  74  27  51  45  49  53  62   7  14  15  36  18\n",
            "  99  17  23  57  88  39  70  16  87  31  56   5  63  82  47  10  22  21\n",
            "   8  79  81  26  43  94  80  95   9  32  64   6  46  37 104   4  55  72\n",
            "  71  40  65  67  92  84   3  85  90  73  54  41  29  11  33  25  34  97\n",
            "  76   2  75 102  98  83  42  69  61 101  13  50  28  78 103  96  77  35\n",
            " 100  60  66  58  30  12  20  59  24  44  19  52  91  48]\n",
            "[ 466   14 3007 3254 3390 2161 2091  229  678  522 1008  984 1602    4\n",
            "   31   30  327   82 3874   17  112 1165 2258  552 2940   17 2554  352\n",
            " 1089    3 1576 2560  597   23  148   64   12 2487 2287  117  811 2786\n",
            " 2358 2701   10  346 1606    4  728  552 4842    3 1216 3041 2608  431\n",
            " 2347 2078 3427 2436    6 2739 3607 2436 1233  778  187   10  236  150\n",
            "  285 3752 2598   18 2190 3214 3827 2933  390 2345 1495 3721    3  790\n",
            "  210 2940 3889 3307 2682  120 3870 1026 2005 1943  221   15   88 1230\n",
            "  121  440   33 1567 3493  583]\n",
            "[  65    0 1924 1877 1632  679 1168    8  115   94  106  354  542    0\n",
            "   18    6   34    0 1380   14    4  330 1664  150  857    0 1661   12\n",
            "  169    0  475  996  205    0    2    8    0 1248 1225   38  119 5071\n",
            "  779 1802    0   30  524    0  106  142 3661    0  207 1196  821   67\n",
            "  600 1202 1550 1466    0 2243 1562 1186  275   51   20    0   36    9\n",
            "    5 1672  698    0  964 1925 1935 1352  117 1408  422 1962    0  121\n",
            "   63 1084 4161 1315 8381   31 1591  339  749  399    9    1    3  587\n",
            "   14  112    0  350 1718  180]\n",
            "[   9    0   91  149  120   65   97   25   27   27   26   34   44    0\n",
            "    1    2   10    1   91    2   13   48  120   19   63    1  109   11\n",
            "   37    0   49  122   32    0    6    5    0   89  103    8   22  178\n",
            "   76 1409    1   18   67    0   31   12  192    1   43   58   60   18\n",
            "   63   76  113  139    0  120  152   60   34   14   17    0    9   12\n",
            "    7  100   85    0  105  248  142  123   18   64   54  113    1   36\n",
            "   12   99  208  114  116    7  186   53   51   53   22    0    8   36\n",
            "    7   19    3   35  127   27]\n"
          ],
          "name": "stdout"
        }
      ]
    },
    {
      "cell_type": "code",
      "metadata": {
        "id": "-24Q0yw9YXMg",
        "colab_type": "code",
        "colab": {
          "base_uri": "https://localhost:8080/",
          "height": 53
        },
        "outputId": "13bd8ade-423b-4f73-f17a-4fce06110a16"
      },
      "source": [
        "print(len(Confirmed_train))\n",
        "print(len(Recovered_train))"
      ],
      "execution_count": 41,
      "outputs": [
        {
          "output_type": "stream",
          "text": [
            "104\n",
            "104\n"
          ],
          "name": "stdout"
        }
      ]
    },
    {
      "cell_type": "code",
      "metadata": {
        "id": "udmaafl1aUAY",
        "colab_type": "code",
        "colab": {}
      },
      "source": [
        "#Linear Regression\n",
        "def model_train(x_train,y_train):\n",
        "  model=LinearRegression()#Instace for Linear Model\n",
        "  #sklearn takes input as matrix so we have to reshape the matrix into column matrix\n",
        "  x_train_for_fitting=np.matrix(x_train.reshape(len(x_train),1))\n",
        "  y_train_for_fitting=np.matrix(y_train.reshape(len(y_train),1))\n",
        "  \n",
        "  #fit the data into the model\n",
        "  return(model.fit(x_train_for_fitting,y_train_for_fitting))"
      ],
      "execution_count": 42,
      "outputs": []
    },
    {
      "cell_type": "code",
      "metadata": {
        "id": "C_JpIDAicSNc",
        "colab_type": "code",
        "colab": {
          "base_uri": "https://localhost:8080/",
          "height": 272
        },
        "outputId": "9825fe2f-ac10-4841-fac2-e3e49a9eb3f4"
      },
      "source": [
        "model=model_train(Days_train,Confirmed_train)\n",
        "model_prediction=model.predict(Days.reshape(len(Days),1))\n",
        "print(Days_train)\n",
        "print(Confirmed_train)"
      ],
      "execution_count": 43,
      "outputs": [
        {
          "output_type": "stream",
          "text": [
            "[ 38   1  86  89  93  68  74  27  51  45  49  53  62   7  14  15  36  18\n",
            "  99  17  23  57  88  39  70  16  87  31  56   5  63  82  47  10  22  21\n",
            "   8  79  81  26  43  94  80  95   9  32  64   6  46  37 104   4  55  72\n",
            "  71  40  65  67  92  84   3  85  90  73  54  41  29  11  33  25  34  97\n",
            "  76   2  75 102  98  83  42  69  61 101  13  50  28  78 103  96  77  35\n",
            " 100  60  66  58  30  12  20  59  24  44  19  52  91  48]\n",
            "[ 466   14 3007 3254 3390 2161 2091  229  678  522 1008  984 1602    4\n",
            "   31   30  327   82 3874   17  112 1165 2258  552 2940   17 2554  352\n",
            " 1089    3 1576 2560  597   23  148   64   12 2487 2287  117  811 2786\n",
            " 2358 2701   10  346 1606    4  728  552 4842    3 1216 3041 2608  431\n",
            " 2347 2078 3427 2436    6 2739 3607 2436 1233  778  187   10  236  150\n",
            "  285 3752 2598   18 2190 3214 3827 2933  390 2345 1495 3721    3  790\n",
            "  210 2940 3889 3307 2682  120 3870 1026 2005 1943  221   15   88 1230\n",
            "  121  440   33 1567 3493  583]\n"
          ],
          "name": "stdout"
        }
      ]
    },
    {
      "cell_type": "code",
      "metadata": {
        "id": "WqUIm-rnmveM",
        "colab_type": "code",
        "colab": {
          "base_uri": "https://localhost:8080/",
          "height": 283
        },
        "outputId": "5ed84d1c-678b-4b31-eed2-eabc193a1162"
      },
      "source": [
        "plt.scatter(Days_train,Confirmed_train,color=\"red\")\n",
        "plt.plot(Days.reshape(len(Days),1),model_prediction,color=\"green\")"
      ],
      "execution_count": 44,
      "outputs": [
        {
          "output_type": "execute_result",
          "data": {
            "text/plain": [
              "[<matplotlib.lines.Line2D at 0x7faec873b978>]"
            ]
          },
          "metadata": {
            "tags": []
          },
          "execution_count": 44
        },
        {
          "output_type": "display_data",
          "data": {
            "image/png": "[encoded data removed]",
            "text/plain": [
              "<Figure size 432x288 with 1 Axes>"
            ]
          },
          "metadata": {
            "tags": [],
            "needs_background": "light"
          }
        }
      ]
    },
    {
      "cell_type": "code",
      "metadata": {
        "id": "Q8ZtHo2Jo4Tb",
        "colab_type": "code",
        "colab": {}
      },
      "source": [
        "def poly_regr(X_train,Y_train,degree):\n",
        "  polynom=PolynomialFeatures(degree=degree)\n",
        "  X_poly=polynom.fit_transform(X_train.reshape(len(X_train),1))\n",
        "  polyReg=LinearRegression()\n",
        "  return polyReg.fit(X_poly,Y_train.reshape(len(Y_train),1))"
      ],
      "execution_count": 45,
      "outputs": []
    },
    {
      "cell_type": "code",
      "metadata": {
        "id": "5VHRBIOWyf8R",
        "colab_type": "code",
        "colab": {}
      },
      "source": [
        "polynom=PolynomialFeatures(degree=4)\n",
        "model=poly_regr(Days_train,Confirmed_train,4)"
      ],
      "execution_count": 46,
      "outputs": []
    },
    {
      "cell_type": "code",
      "metadata": {
        "id": "nksUqb1Ky6hP",
        "colab_type": "code",
        "colab": {
          "base_uri": "https://localhost:8080/",
          "height": 35
        },
        "outputId": "995d189c-e5e2-4ec5-f5b2-ce7f4dbbf8cd"
      },
      "source": [
        "print(model)\n",
        "\n",
        "predict=model.predict(polynom.fit_transform(Days_train.reshape(len(Days_train),1)))"
      ],
      "execution_count": 47,
      "outputs": [
        {
          "output_type": "stream",
          "text": [
            "LinearRegression(copy_X=True, fit_intercept=True, n_jobs=None, normalize=False)\n"
          ],
          "name": "stdout"
        }
      ]
    },
    {
      "cell_type": "code",
      "metadata": {
        "id": "x5B5eBNuzmFc",
        "colab_type": "code",
        "colab": {}
      },
      "source": [
        "#Creating Array Of Custom Days\n",
        "Days_array=[]\n",
        "for i in range(100,140):\n",
        "  Days_array.append(i)\n",
        "Days_predict=np.array(Days_array)\n",
        "#Prdict the model on future date\n",
        "predict_confirm=model.predict(polynom.fit_transform(Days_predict.reshape(len(Days_predict),1)))"
      ],
      "execution_count": 55,
      "outputs": []
    },
    {
      "cell_type": "code",
      "metadata": {
        "id": "fdEnaIJW2MNB",
        "colab_type": "code",
        "colab": {
          "base_uri": "https://localhost:8080/",
          "height": 283
        },
        "outputId": "f44fa7a4-15da-45fe-8a6c-9bdba5c810ee"
      },
      "source": [
        "plt.scatter(Days_train,Confirmed_train,color=\"red\")\n",
        "plt.scatter(Days_predict,predict_confirm,color=\"blue\")"
      ],
      "execution_count": 56,
      "outputs": [
        {
          "output_type": "execute_result",
          "data": {
            "text/plain": [
              "<matplotlib.collections.PathCollection at 0x7faec8f665c0>"
            ]
          },
          "metadata": {
            "tags": []
          },
          "execution_count": 56
        },
        {
          "output_type": "display_data",
          "data": {
            "image/png": "[encoded data removed]",
            "text/plain": [
              "<Figure size 432x288 with 1 Axes>"
            ]
          },
          "metadata": {
            "tags": [],
            "needs_background": "light"
          }
        }
      ]
    },
    {
      "cell_type": "code",
      "metadata": {
        "id": "GmrrRp_X2mH3",
        "colab_type": "code",
        "colab": {}
      },
      "source": [
        ""
      ],
      "execution_count": 49,
      "outputs": []
    }
  ]
}