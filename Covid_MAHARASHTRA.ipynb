{
  "nbformat": 4,
  "nbformat_minor": 0,
  "metadata": {
    "colab": {
      "name": "Covid_MAHARASHTRA.ipynb",
      "provenance": [],
      "collapsed_sections": []
    },
    "kernelspec": {
      "name": "python3",
      "display_name": "Python 3"
    }
  },
  "cells": [
    {
      "cell_type": "code",
      "metadata": {
        "id": "bNZBxIC6OyTM",
        "colab_type": "code",
        "colab": {}
      },
      "source": [
        "import numpy as np\n",
        "from sklearn.preprocessing import PolynomialFeatures\n",
        "from sklearn.linear_model import LinearRegression\n",
        "import pandas as pd\n",
        "import matplotlib.pyplot as plt"
      ],
      "execution_count": 9,
      "outputs": []
    },
    {
      "cell_type": "code",
      "metadata": {
        "id": "p8g6yDC2DDeN",
        "colab_type": "code",
        "colab": {}
      },
      "source": [
        "df=pd.read_csv(\"Maharashtra.csv\")\n"
      ],
      "execution_count": 10,
      "outputs": []
    },
    {
      "cell_type": "code",
      "metadata": {
        "id": "QD8ePvGXEhLd",
        "colab_type": "code",
        "colab": {
          "base_uri": "https://localhost:8080/",
          "height": 563
        },
        "outputId": "9c6b72e9-338a-468f-eb3c-bcb61432c19f"
      },
      "source": [
        "Days=np.array(df['days'])\n",
        "print(\"Days\",Days)\n",
        "Confirmed=np.array(df['confirmed'])\n",
        "print(\"Confirmed\",Confirmed)\n",
        "Deaths=np.array(df['deceased'])\n",
        "print(\"Deaths\",Deaths)\n",
        "Recovered=np.array(df['recovered'])\n",
        "print(\"Recoverd\",Recovered)"
      ],
      "execution_count": 11,
      "outputs": [
        {
          "output_type": "stream",
          "text": [
            "Days [  1   2   3   4   5   6   7   8   9  10  11  12  13  14  15  16  17  18\n",
            "  19  20  21  22  23  24  25  26  27  28  29  30  31  32  33  34  35  36\n",
            "  37  38  39  40  41  42  43  44  45  46  47  48  49  50  51  52  53  54\n",
            "  55  56  57  58  59  60  61  62  63  64  65  66  67  68  69  70  71  72\n",
            "  73  74  75  76  77  78  79  80  81  82  83  84  85  86  87  88  89  90\n",
            "  91  92  93  94  95  96  97  98  99 100 101 102 103 104]\n",
            "Confirmed [  14   18    6    3    3    4    4   12   10   23   10   15    3   31\n",
            "   30   17   17   82   33   88   64  148  112  121  150  117  229  210\n",
            "  187  221  352  346  236  285  120  327  552  466  552  431  778  390\n",
            "  811  440  522  728  597  583 1008  790  678 1567  984 1233 1216 1089\n",
            " 1165 1943 1230 1026 1495 1602 1576 1606 2347 2005 2078 2161 2345 2940\n",
            " 2608 3041 2436 2091 2190 2598 2682 2940 2487 2358 2287 2560 2933 2436\n",
            " 2739 3007 2554 2258 3254 3607 3493 3427 3390 2786 2701 3307 3752 3827\n",
            " 3874 3870 3721 3214 3889 4842]\n",
            "Deaths [   0    0    0    1    0    0    0    0    1    0    0    0    1    1\n",
            "    2    1    2    1    3    8    5    6   13    7   12    8   25   12\n",
            "   17   22   11   18    9    7    7   10   12    9   19   18   14   18\n",
            "   22   19   27   31   32   27   26   36   27   35   34   34   43   37\n",
            "   48   53   36   53   54   44   49   67   63   51   76   65   64   63\n",
            "   60   58   60   97  105   85  116   99   89   76  103  122  123  139\n",
            "  120   91  109  120  149  152  127  113  120  178 1409  114  100  142\n",
            "   91  186  113  248  208  192]\n",
            "Recoverd [   0    0    0    0    0    0    0    0    0    0    0    1    0   18\n",
            "    6    0   14    0    0    3    8    2    4   14    9   38    8   63\n",
            "   20    9   12   30   36    5   31   34  142   65  150   67   51  117\n",
            "  119  112   94  106  205  180  106  121  115  350  354  275  207  169\n",
            "  330  399  587  339  422  542  475  524  600  749 1202  679 1408  857\n",
            "  821 1196 1186 1168  964  698 8381 1084 1248  779 1225  996 1352 1466\n",
            " 2243 1924 1661 1664 1877 1562 1718 1550 1632 5071 1802 1315 1672 1935\n",
            " 1380 1591 1962 1925 4161 3661]\n"
          ],
          "name": "stdout"
        }
      ]
    },
    {
      "cell_type": "code",
      "metadata": {
        "id": "yTgRmSnsFn9D",
        "colab_type": "code",
        "colab": {
          "base_uri": "https://localhost:8080/",
          "height": 283
        },
        "outputId": "1ecb74c0-1305-4f90-967f-feacd4492948"
      },
      "source": [
        "plt.plot(Days,Recovered)"
      ],
      "execution_count": 12,
      "outputs": [
        {
          "output_type": "execute_result",
          "data": {
            "text/plain": [
              "[<matplotlib.lines.Line2D at 0x7faec946c1d0>]"
            ]
          },
          "metadata": {
            "tags": []
          },
          "execution_count": 12
        },
        {
          "output_type": "display_data",
          "data": {
            "image/png": "[encoded data removed]",
            "text/plain": [
              "<Figure size 432x288 with 1 Axes>"
            ]
          },
          "metadata": {
            "tags": [],
            "needs_background": "light"
          }
        }
      ]
    },
    {
      "cell_type": "code",
      "metadata": {
        "id": "cJb33Ly6Hb3d",
        "colab_type": "code",
        "colab": {
          "base_uri": "https://localhost:8080/",
          "height": 284
        },
        "outputId": "5269fe49-b84e-4492-a050-fbe57de474e9"
      },
      "source": [
        "plt.scatter(Days,Confirmed)"
      ],
      "execution_count": 13,
      "outputs": [
        {
          "output_type": "execute_result",
          "data": {
            "text/plain": [
              "<matplotlib.collections.PathCollection at 0x7faec93f2c18>"
            ]
          },
          "metadata": {
            "tags": []
          },
          "execution_count": 13
        },
        {
          "output_type": "display_data",
          "data": {
            "image/png": "[encoded data removed]",
            "text/plain": [
              "<Figure size 432x288 with 1 Axes>"
            ]
          },
          "metadata": {
            "tags": [],
            "needs_background": "light"
          }
        }
      ]
    },
    {
      "cell_type": "code",
      "metadata": {
        "id": "iW_TXLvHOpwT",
        "colab_type": "code",
        "colab": {
          "base_uri": "https://localhost:8080/",
          "height": 672
        },
        "outputId": "cf4c84c2-1028-4076-ccfc-3de4fc6b283b"
      },
      "source": [
        "random_indices=(np.random.permutation(104))\n",
        "print(random_indices)\n",
        "Days_train=Days[random_indices[:]]\n",
        "print(Days_train)\n",
        "Confirmed_train=Confirmed[random_indices[:]]\n",
        "print(Confirmed_train)\n",
        "Recovered_train=Recovered[random_indices[:]]\n",
        "Recovered_test=Recovered[random_indices[80:]]\n",
        "print(Recovered_train)\n",
        "Deaths_train=Deaths[random_indices[:]]\n",
        "print(Deaths_train)\n",
        "\n"
      ],
      "execution_count": 14,
      "outputs": [
        {
          "output_type": "stream",
          "text": [
            "[ 74  81  55   1  53  77  62  64  12  79  61  14  11  31   8  91  93  39\n",
            "  84  37  83  22  17   6  47 103  70   2  35  89  98  58  33  30  21  15\n",
            "  34  73  97  10  69   5  59  65  45  60   7  68  49  92  94  56  78  44\n",
            "  25   4  71  90  29  43 101  57  26  82  87  40  99  50  86  20  16  80\n",
            "  32  13 100  96   9  54  67  88  19  42   3  41  76  51  36  46  38  66\n",
            "  63  27  24  52   0  72  85  23 102  75  48  18  95  28]\n",
            "[ 75  82  56   2  54  78  63  65  13  80  62  15  12  32   9  92  94  40\n",
            "  85  38  84  23  18   7  48 104  71   3  36  90  99  59  34  31  22  16\n",
            "  35  74  98  11  70   6  60  66  46  61   8  69  50  93  95  57  79  45\n",
            "  26   5  72  91  30  44 102  58  27  83  88  41 100  51  87  21  17  81\n",
            "  33  14 101  97  10  55  68  89  20  43   4  42  77  52  37  47  39  67\n",
            "  64  28  25  53   1  73  86  24 103  76  49  19  96  29]\n",
            "[2190 2560 1089   18 1233 2940 1576 2347    3 2358 1602   30   15  346\n",
            "   10 3427 2786  431 2739  466 2436  112   82    4  583 4842 2608    6\n",
            "  327 3607 3874 1230  285  352  148   17  120 2091 3827   10 2940    4\n",
            " 1026 2005  728 1495   12 2345  790 3390 2701 1165 2487  522  117    3\n",
            " 3041 3493  221  440 3214 1943  229 2933 2258  778 3870  678 2554   64\n",
            "   17 2287  236   31 3721 3752   23 1216 2161 3254   88  811    3  390\n",
            " 2682 1567  552  597  552 2078 1606  210  150  984   14 2436 3007  121\n",
            " 3889 2598 1008   33 3307  187]\n",
            "[ 964  996  169    0  275 1084  475  600    0  779  542    6    1   30\n",
            "    0 1550 5071   67 2243   65 1466    4    0    0  180 3661  821    0\n",
            "   34 1562 1380  587    5   12    2    0   31 1168 1935    0  857    0\n",
            "  339  749  106  422    0 1408  121 1632 1802  330 1248   94   38    0\n",
            " 1196 1718    9  112 1925  399    8 1352 1664   51 1591  115 1661    8\n",
            "   14 1225   36   18 1962 1672    0  207  679 1877    3  119    0  117\n",
            " 8381  350  142  205  150 1202  524   63    9  354    0 1186 1924   14\n",
            " 4161  698  106    0 1315   20]\n",
            "[ 105  122   37    0   34   99   49   63    1   76   44    2    0   18\n",
            "    1  113  178   18  120    9  139   13    1    0   27  192   60    0\n",
            "   10  152   91   36    7   11    6    1    7   97  142    0   63    0\n",
            "   53   51   31   54    0   64   36  120 1409   48   89   27    8    0\n",
            "   58  127   22   19  248   53   25  123  120   14  186   27  109    5\n",
            "    2  103    9    1  113  100    0   43   65  149    8   22    1   18\n",
            "  116   35   12   32   19   76   67   12   12   34    0   60   91    7\n",
            "  208   85   26    3  114   17]\n"
          ],
          "name": "stdout"
        }
      ]
    },
    {
      "cell_type": "code",
      "metadata": {
        "id": "-24Q0yw9YXMg",
        "colab_type": "code",
        "colab": {
          "base_uri": "https://localhost:8080/",
          "height": 53
        },
        "outputId": "4bc81f82-4146-458f-8d12-a49d1596df70"
      },
      "source": [
        "print(len(Confirmed_train))\n",
        "print(len(Recovered_train))"
      ],
      "execution_count": 15,
      "outputs": [
        {
          "output_type": "stream",
          "text": [
            "104\n",
            "104\n"
          ],
          "name": "stdout"
        }
      ]
    },
    {
      "cell_type": "code",
      "metadata": {
        "id": "udmaafl1aUAY",
        "colab_type": "code",
        "colab": {}
      },
      "source": [
        "#Linear Regression\n",
        "def model_train(x_train,y_train):\n",
        "  model=LinearRegression()#Instace for Linear Model\n",
        "  #sklearn takes input as matrix so we have to reshape the matrix into column matrix\n",
        "  x_train_for_fitting=np.matrix(x_train.reshape(len(x_train),1))\n",
        "  y_train_for_fitting=np.matrix(y_train.reshape(len(y_train),1))\n",
        "  \n",
        "  #fit the data into the model\n",
        "  return(model.fit(x_train_for_fitting,y_train_for_fitting))"
      ],
      "execution_count": 16,
      "outputs": []
    },
    {
      "cell_type": "code",
      "metadata": {
        "id": "C_JpIDAicSNc",
        "colab_type": "code",
        "colab": {
          "base_uri": "https://localhost:8080/",
          "height": 272
        },
        "outputId": "4ac0dbd4-6f6e-42d5-f1f9-9d283329e1a2"
      },
      "source": [
        "model=model_train(Days_train,Confirmed_train)\n",
        "model_prediction=model.predict(Days.reshape(len(Days),1))\n",
        "print(Days_train)\n",
        "print(Confirmed_train)"
      ],
      "execution_count": 17,
      "outputs": [
        {
          "output_type": "stream",
          "text": [
            "[ 75  82  56   2  54  78  63  65  13  80  62  15  12  32   9  92  94  40\n",
            "  85  38  84  23  18   7  48 104  71   3  36  90  99  59  34  31  22  16\n",
            "  35  74  98  11  70   6  60  66  46  61   8  69  50  93  95  57  79  45\n",
            "  26   5  72  91  30  44 102  58  27  83  88  41 100  51  87  21  17  81\n",
            "  33  14 101  97  10  55  68  89  20  43   4  42  77  52  37  47  39  67\n",
            "  64  28  25  53   1  73  86  24 103  76  49  19  96  29]\n",
            "[2190 2560 1089   18 1233 2940 1576 2347    3 2358 1602   30   15  346\n",
            "   10 3427 2786  431 2739  466 2436  112   82    4  583 4842 2608    6\n",
            "  327 3607 3874 1230  285  352  148   17  120 2091 3827   10 2940    4\n",
            " 1026 2005  728 1495   12 2345  790 3390 2701 1165 2487  522  117    3\n",
            " 3041 3493  221  440 3214 1943  229 2933 2258  778 3870  678 2554   64\n",
            "   17 2287  236   31 3721 3752   23 1216 2161 3254   88  811    3  390\n",
            " 2682 1567  552  597  552 2078 1606  210  150  984   14 2436 3007  121\n",
            " 3889 2598 1008   33 3307  187]\n"
          ],
          "name": "stdout"
        }
      ]
    },
    {
      "cell_type": "code",
      "metadata": {
        "id": "WqUIm-rnmveM",
        "colab_type": "code",
        "colab": {
          "base_uri": "https://localhost:8080/",
          "height": 283
        },
        "outputId": "f7c425fe-d348-4cb6-8289-fbfbaec674b7"
      },
      "source": [
        "plt.scatter(Days_train,Confirmed_train,color=\"red\")\n",
        "plt.plot(Days.reshape(len(Days),1),model_prediction,color=\"green\")"
      ],
      "execution_count": 18,
      "outputs": [
        {
          "output_type": "execute_result",
          "data": {
            "text/plain": [
              "[<matplotlib.lines.Line2D at 0x7faec8f66e48>]"
            ]
          },
          "metadata": {
            "tags": []
          },
          "execution_count": 18
        },
        {
          "output_type": "display_data",
          "data": {
            "image/png": "[encoded data removed]",
            "text/plain": [
              "<Figure size 432x288 with 1 Axes>"
            ]
          },
          "metadata": {
            "tags": [],
            "needs_background": "light"
          }
        }
      ]
    },
    {
      "cell_type": "code",
      "metadata": {
        "id": "Q8ZtHo2Jo4Tb",
        "colab_type": "code",
        "colab": {}
      },
      "source": [
        "def poly_regr(X_train,Y_train,degree):\n",
        "  polynom=PolynomialFeatures(degree=degree)\n",
        "  X_poly=polynom.fit_transform(X_train.reshape(len(X_train),1))\n",
        "  polyReg=LinearRegression()\n",
        "  return polyReg.fit(X_poly,Y_train.reshape(len(Y_train),1))"
      ],
      "execution_count": 22,
      "outputs": []
    },
    {
      "cell_type": "code",
      "metadata": {
        "id": "5VHRBIOWyf8R",
        "colab_type": "code",
        "colab": {}
      },
      "source": [
        "polynom=PolynomialFeatures(degree=4)\n",
        "model=poly_regr(Days_train,Confirmed_train,4)"
      ],
      "execution_count": 23,
      "outputs": []
    },
    {
      "cell_type": "code",
      "metadata": {
        "id": "nksUqb1Ky6hP",
        "colab_type": "code",
        "colab": {
          "base_uri": "https://localhost:8080/",
          "height": 35
        },
        "outputId": "861a0b54-11fe-4219-daff-cb3b76ce9a57"
      },
      "source": [
        "print(model)\n",
        "\n",
        "predict=model.predict(polynom.fit_transform(Days_train.reshape(len(Days_train),1)))"
      ],
      "execution_count": 25,
      "outputs": [
        {
          "output_type": "stream",
          "text": [
            "LinearRegression(copy_X=True, fit_intercept=True, n_jobs=None, normalize=False)\n"
          ],
          "name": "stdout"
        }
      ]
    },
    {
      "cell_type": "code",
      "metadata": {
        "id": "x5B5eBNuzmFc",
        "colab_type": "code",
        "colab": {}
      },
      "source": [
        "#Creating Array Of Custom Days\n",
        "Days_array=[]\n",
        "for i in range(100,200):\n",
        "  Days_array.append(i)\n",
        "Days_predict=np.array(Days_array)\n",
        "#Prdict the model on future date\n",
        "predict_confirm=model.predict(polynom.fit_transform(Days_predict.reshape(len(Days_predict),1)))"
      ],
      "execution_count": 33,
      "outputs": []
    },
    {
      "cell_type": "code",
      "metadata": {
        "id": "fdEnaIJW2MNB",
        "colab_type": "code",
        "colab": {
          "base_uri": "https://localhost:8080/",
          "height": 283
        },
        "outputId": "e0de892e-103b-49fe-990f-30d37d805a10"
      },
      "source": [
        "plt.scatter(Days_train,Confirmed_train,color=\"red\")\n",
        "plt.plot(Days_predict,predict_confirm,color=\"blue\")"
      ],
      "execution_count": 35,
      "outputs": [
        {
          "output_type": "execute_result",
          "data": {
            "text/plain": [
              "[<matplotlib.lines.Line2D at 0x7faec8d4a9e8>]"
            ]
          },
          "metadata": {
            "tags": []
          },
          "execution_count": 35
        },
        {
          "output_type": "display_data",
          "data": {
            "image/png": "[encoded data removed]",
            "text/plain": [
              "<Figure size 432x288 with 1 Axes>"
            ]
          },
          "metadata": {
            "tags": [],
            "needs_background": "light"
          }
        }
      ]
    },
    {
      "cell_type": "code",
      "metadata": {
        "id": "GmrrRp_X2mH3",
        "colab_type": "code",
        "colab": {}
      },
      "source": [
        ""
      ],
      "execution_count": null,
      "outputs": []
    }
  ]
}